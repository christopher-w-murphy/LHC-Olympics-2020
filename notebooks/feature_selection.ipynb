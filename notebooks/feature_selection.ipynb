{
 "cells": [
  {
   "cell_type": "markdown",
   "metadata": {},
   "source": [
    "# Load Data"
   ]
  },
  {
   "cell_type": "code",
   "execution_count": 1,
   "metadata": {},
   "outputs": [],
   "source": [
    "import os\n",
    "import numpy as np\n",
    "import pandas as pd"
   ]
  },
  {
   "cell_type": "code",
   "execution_count": 2,
   "metadata": {},
   "outputs": [],
   "source": [
    "data_path = '/Users/christopherwmurphy/Documents/projects/lhc_olympics/LHC-Olympics-2020/data_processed'"
   ]
  },
  {
   "cell_type": "code",
   "execution_count": 3,
   "metadata": {},
   "outputs": [],
   "source": [
    "df = pd.read_hdf(os.path.join(data_path, 'processed_labeled.h5'), key='processed')"
   ]
  },
  {
   "cell_type": "code",
   "execution_count": 4,
   "metadata": {},
   "outputs": [
    {
     "name": "stdout",
     "output_type": "stream",
     "text": [
      "<class 'pandas.core.frame.DataFrame'>\n",
      "Int64Index: 1099809 entries, 0 to 1099808\n",
      "Data columns (total 26 columns):\n",
      "pt_1                       1099809 non-null float64\n",
      "eta_1                      1099809 non-null float64\n",
      "phi_1                      1099809 non-null float64\n",
      "mass_1                     1099809 non-null float64\n",
      "pt_2                       1099809 non-null float64\n",
      "eta_2                      1099809 non-null float64\n",
      "phi_2                      1099809 non-null float64\n",
      "mass_2                     1099809 non-null float64\n",
      "sqrt(tau1(2))/tau1(1)_1    1099809 non-null float64\n",
      "tau21_1                    1099809 non-null float64\n",
      "tau32_1                    1099809 non-null float64\n",
      "tau43_1                    1099809 non-null float64\n",
      "multiplicity_1             1099809 non-null int64\n",
      "fragmentation_1            1099809 non-null float64\n",
      "sqrt(tau1(2))/tau1(1)_2    1099809 non-null float64\n",
      "tau21_2                    1099809 non-null float64\n",
      "tau32_2                    1099809 non-null float64\n",
      "tau43_2                    1099809 non-null float64\n",
      "multiplicity_2             1099809 non-null int64\n",
      "fragmentation_2            1099809 non-null float64\n",
      "is_signal                  1099809 non-null int64\n",
      "delta_phi_jj               1099809 non-null float64\n",
      "delta_R_jj                 1099809 non-null float64\n",
      "mass_jj                    1099809 non-null float64\n",
      "mass_1+mass_2              1099809 non-null float64\n",
      "|mass_1-mass_2|            1099809 non-null float64\n",
      "dtypes: float64(23), int64(3)\n",
      "memory usage: 226.6 MB\n"
     ]
    }
   ],
   "source": [
    "df.info(memory_usage='deep')"
   ]
  },
  {
   "cell_type": "markdown",
   "metadata": {},
   "source": [
    "# Feature Selection for Outlier Detection\n",
    "\n",
    "If the ROC AUC is greater than 1/2 keep this feature. Note this is usually trivial to satisfy, but if the background is \"more outlying\" than the signal then performance will suffer"
   ]
  },
  {
   "cell_type": "code",
   "execution_count": 5,
   "metadata": {},
   "outputs": [],
   "source": [
    "X = df.drop(columns=['is_signal'])\n",
    "y = df['is_signal']"
   ]
  },
  {
   "cell_type": "code",
   "execution_count": 6,
   "metadata": {},
   "outputs": [],
   "source": [
    "from pyod.models.iforest import IForest\n",
    "from pyod.utils.data import evaluate_print"
   ]
  },
  {
   "cell_type": "code",
   "execution_count": 7,
   "metadata": {},
   "outputs": [
    {
     "name": "stdout",
     "output_type": "stream",
     "text": [
      "pt_1 ROC:0.7235, precision @ rank n:0.1477\n",
      "eta_1 ROC:0.4586, precision @ rank n:0.0515\n",
      "phi_1 ROC:0.5007, precision @ rank n:0.0919\n",
      "mass_1 ROC:0.5884, precision @ rank n:0.1595\n",
      "pt_2 ROC:0.7287, precision @ rank n:0.0902\n",
      "eta_2 ROC:0.4414, precision @ rank n:0.051\n",
      "phi_2 ROC:0.4997, precision @ rank n:0.091\n",
      "mass_2 ROC:0.5342, precision @ rank n:0.1695\n",
      "sqrt(tau1(2))/tau1(1)_1 ROC:0.608, precision @ rank n:0.079\n",
      "tau21_1 ROC:0.6526, precision @ rank n:0.2271\n",
      "tau32_1 ROC:0.5738, precision @ rank n:0.1454\n",
      "tau43_1 ROC:0.5324, precision @ rank n:0.1211\n",
      "multiplicity_1 ROC:0.4235, precision @ rank n:0.0339\n",
      "fragmentation_1 ROC:0.4186, precision @ rank n:0.0266\n",
      "sqrt(tau1(2))/tau1(1)_2 ROC:0.5815, precision @ rank n:0.0416\n",
      "tau21_2 ROC:0.5722, precision @ rank n:0.1928\n",
      "tau32_2 ROC:0.5467, precision @ rank n:0.1392\n",
      "tau43_2 ROC:0.5268, precision @ rank n:0.1246\n",
      "multiplicity_2 ROC:0.4281, precision @ rank n:0.0349\n",
      "fragmentation_2 ROC:0.404, precision @ rank n:0.0293\n",
      "delta_phi_jj ROC:0.4188, precision @ rank n:0.0413\n",
      "delta_R_jj ROC:0.4067, precision @ rank n:0.019\n",
      "mass_jj ROC:0.3628, precision @ rank n:0.0105\n",
      "mass_1+mass_2 ROC:0.5354, precision @ rank n:0.1036\n",
      "|mass_1-mass_2| ROC:0.7836, precision @ rank n:0.1928\n",
      "CPU times: user 4min 39s, sys: 35.8 s, total: 5min 14s\n",
      "Wall time: 5min 20s\n"
     ]
    }
   ],
   "source": [
    "%%time\n",
    "for feature in X.columns:\n",
    "    clf = IForest(behaviour='new', n_estimators=20)\n",
    "    clf.fit(X[feature].values.reshape(-1, 1))\n",
    "    evaluate_print(feature, y, clf.decision_scores_)"
   ]
  },
  {
   "cell_type": "markdown",
   "metadata": {},
   "source": [
    "# Outlier Detector Comparison\n",
    "\n",
    "PCA outperforms the autoencoder I trained"
   ]
  },
  {
   "cell_type": "code",
   "execution_count": 7,
   "metadata": {},
   "outputs": [
    {
     "name": "stderr",
     "output_type": "stream",
     "text": [
      "Using TensorFlow backend.\n"
     ]
    }
   ],
   "source": [
    "from pyod.models.auto_encoder import AutoEncoder\n",
    "from pyod.models.pca import PCA\n",
    "from sklearn.model_selection import train_test_split\n",
    "from sklearn.preprocessing import QuantileTransformer"
   ]
  },
  {
   "cell_type": "markdown",
   "metadata": {},
   "source": [
    "Based on the above feature selection keep the following features for anomaly detection"
   ]
  },
  {
   "cell_type": "code",
   "execution_count": 8,
   "metadata": {},
   "outputs": [],
   "source": [
    "od_cols = ['pt_1', 'pt_2', 'sqrt(tau1(2))/tau1(1)_1', 'tau21_1', 'tau32_1', 'tau43_1',\n",
    "           'sqrt(tau1(2))/tau1(1)_2', 'tau21_2', 'tau32_2', 'tau43_2','mass_1+mass_2', '|mass_1-mass_2|']"
   ]
  },
  {
   "cell_type": "code",
   "execution_count": 9,
   "metadata": {},
   "outputs": [],
   "source": [
    "X1 = df[od_cols]"
   ]
  },
  {
   "cell_type": "code",
   "execution_count": 10,
   "metadata": {},
   "outputs": [],
   "source": [
    "X_tr, X_te, y_tr, y_te = train_test_split(X1, y, test_size=0.2, stratify=y)"
   ]
  },
  {
   "cell_type": "code",
   "execution_count": 11,
   "metadata": {},
   "outputs": [],
   "source": [
    "quant = QuantileTransformer()\n",
    "X_tr = quant.fit_transform(X_tr)\n",
    "X_te = quant.transform(X_te)"
   ]
  },
  {
   "cell_type": "markdown",
   "metadata": {},
   "source": [
    "## Principal Component Analysis"
   ]
  },
  {
   "cell_type": "code",
   "execution_count": 16,
   "metadata": {},
   "outputs": [
    {
     "name": "stdout",
     "output_type": "stream",
     "text": [
      "PCA w/ 1 components ROC:0.4195, precision @ rank n:0.0091\n",
      "PCA w/ 2 components ROC:0.7048, precision @ rank n:0.1655\n",
      "PCA w/ 3 components ROC:0.7685, precision @ rank n:0.256\n",
      "PCA w/ 4 components ROC:0.7958, precision @ rank n:0.3034\n",
      "PCA w/ 5 components ROC:0.8065, precision @ rank n:0.3282\n",
      "PCA w/ 6 components ROC:0.8127, precision @ rank n:0.3418\n",
      "PCA w/ 7 components ROC:0.8182, precision @ rank n:0.3524\n",
      "PCA w/ 8 components ROC:0.8164, precision @ rank n:0.3454\n",
      "PCA w/ 9 components ROC:0.8249, precision @ rank n:0.3629\n",
      "PCA w/ 10 components ROC:0.8299, precision @ rank n:0.3749\n",
      "PCA w/ 11 components ROC:0.8389, precision @ rank n:0.3944\n",
      "PCA w/ 12 components ROC:0.8386, precision @ rank n:0.3946\n",
      "CPU times: user 45 s, sys: 7.37 s, total: 52.4 s\n",
      "Wall time: 28.4 s\n"
     ]
    }
   ],
   "source": [
    "%%time\n",
    "for i in range(1, X1.shape[1]+1):\n",
    "    od = PCA(n_components=i)\n",
    "    od.fit(X_tr)\n",
    "    evaluate_print('PCA w/ %i components' %i, y_te, od.decision_function(X_te))"
   ]
  },
  {
   "cell_type": "code",
   "execution_count": 17,
   "metadata": {},
   "outputs": [
    {
     "name": "stdout",
     "output_type": "stream",
     "text": [
      "PCA w/ 1 selected components ROC:0.8306, precision @ rank n:0.3807\n",
      "PCA w/ 2 selected components ROC:0.8491, precision @ rank n:0.4199\n",
      "PCA w/ 3 selected components ROC:0.8478, precision @ rank n:0.4197\n",
      "PCA w/ 4 selected components ROC:0.8469, precision @ rank n:0.4147\n",
      "PCA w/ 5 selected components ROC:0.8434, precision @ rank n:0.4069\n",
      "PCA w/ 6 selected components ROC:0.8432, precision @ rank n:0.4066\n",
      "PCA w/ 7 selected components ROC:0.8427, precision @ rank n:0.4048\n",
      "PCA w/ 8 selected components ROC:0.8423, precision @ rank n:0.404\n",
      "PCA w/ 9 selected components ROC:0.8423, precision @ rank n:0.4028\n",
      "PCA w/ 10 selected components ROC:0.8426, precision @ rank n:0.4028\n",
      "PCA w/ 11 selected components ROC:0.8426, precision @ rank n:0.4039\n",
      "PCA w/ 12 selected components ROC:0.8386, precision @ rank n:0.3946\n",
      "CPU times: user 14.7 s, sys: 2.84 s, total: 17.6 s\n",
      "Wall time: 13.2 s\n"
     ]
    }
   ],
   "source": [
    "%%time\n",
    "for i in range(1, X1.shape[1]+1):\n",
    "    od = PCA(n_components=12, n_selected_components=i)\n",
    "    od.fit(X_tr)\n",
    "    evaluate_print('PCA w/ %i selected components' %i, y_te, od.decision_function(X_te))"
   ]
  },
  {
   "cell_type": "code",
   "execution_count": 18,
   "metadata": {},
   "outputs": [
    {
     "name": "stdout",
     "output_type": "stream",
     "text": [
      "PCA w/ 1 selected components ROC:0.8627, precision @ rank n:0.452\n",
      "PCA w/ 2 selected components ROC:0.8543, precision @ rank n:0.4369\n",
      "PCA w/ 3 selected components ROC:0.851, precision @ rank n:0.4261\n",
      "PCA w/ 4 selected components ROC:0.8456, precision @ rank n:0.4127\n",
      "PCA w/ 5 selected components ROC:0.8452, precision @ rank n:0.4108\n",
      "PCA w/ 6 selected components ROC:0.8444, precision @ rank n:0.4093\n",
      "PCA w/ 7 selected components ROC:0.8438, precision @ rank n:0.4079\n",
      "PCA w/ 8 selected components ROC:0.8437, precision @ rank n:0.4064\n",
      "PCA w/ 9 selected components ROC:0.8439, precision @ rank n:0.4054\n",
      "PCA w/ 10 selected components ROC:0.8439, precision @ rank n:0.4058\n",
      "PCA w/ 11 selected components ROC:0.8389, precision @ rank n:0.3944\n",
      "CPU times: user 13.4 s, sys: 2.58 s, total: 16 s\n",
      "Wall time: 12 s\n"
     ]
    }
   ],
   "source": [
    "%%time\n",
    "for i in range(1, 12):\n",
    "    od = PCA(n_components=11, n_selected_components=i)\n",
    "    od.fit(X_tr)\n",
    "    evaluate_print('PCA w/ %i selected components' %i, y_te, od.decision_function(X_te))"
   ]
  },
  {
   "cell_type": "markdown",
   "metadata": {},
   "source": [
    "## Isolation Forest"
   ]
  },
  {
   "cell_type": "code",
   "execution_count": 18,
   "metadata": {},
   "outputs": [],
   "source": [
    "n_range = [10, 20, 50, 70, 100]"
   ]
  },
  {
   "cell_type": "code",
   "execution_count": 19,
   "metadata": {},
   "outputs": [
    {
     "name": "stdout",
     "output_type": "stream",
     "text": [
      "IForest w/ 10 estimators ROC:0.6404, precision @ rank n:0.1772\n",
      "IForest w/ 20 estimators ROC:0.6298, precision @ rank n:0.1577\n",
      "IForest w/ 50 estimators ROC:0.7245, precision @ rank n:0.1845\n",
      "IForest w/ 70 estimators ROC:0.6829, precision @ rank n:0.1584\n",
      "IForest w/ 100 estimators ROC:0.654, precision @ rank n:0.1425\n",
      "CPU times: user 2min 28s, sys: 17.7 s, total: 2min 46s\n",
      "Wall time: 2min 47s\n"
     ]
    }
   ],
   "source": [
    "%%time\n",
    "for n in n_range:\n",
    "    od = IForest(behaviour='new', n_estimators=n)\n",
    "    od.fit(X_tr)\n",
    "    evaluate_print('IForest w/ %i estimators' %n, y_te, od.decision_function(X_te))"
   ]
  },
  {
   "cell_type": "markdown",
   "metadata": {},
   "source": [
    "## Autoencoder"
   ]
  },
  {
   "cell_type": "code",
   "execution_count": 15,
   "metadata": {},
   "outputs": [
    {
     "name": "stdout",
     "output_type": "stream",
     "text": [
      "Model: \"sequential_4\"\n",
      "_________________________________________________________________\n",
      "Layer (type)                 Output Shape              Param #   \n",
      "=================================================================\n",
      "dense_21 (Dense)             (None, 12)                156       \n",
      "_________________________________________________________________\n",
      "dropout_18 (Dropout)         (None, 12)                0         \n",
      "_________________________________________________________________\n",
      "dense_22 (Dense)             (None, 12)                156       \n",
      "_________________________________________________________________\n",
      "dropout_19 (Dropout)         (None, 12)                0         \n",
      "_________________________________________________________________\n",
      "dense_23 (Dense)             (None, 8)                 104       \n",
      "_________________________________________________________________\n",
      "dropout_20 (Dropout)         (None, 8)                 0         \n",
      "_________________________________________________________________\n",
      "dense_24 (Dense)             (None, 4)                 36        \n",
      "_________________________________________________________________\n",
      "dropout_21 (Dropout)         (None, 4)                 0         \n",
      "_________________________________________________________________\n",
      "dense_25 (Dense)             (None, 8)                 40        \n",
      "_________________________________________________________________\n",
      "dropout_22 (Dropout)         (None, 8)                 0         \n",
      "_________________________________________________________________\n",
      "dense_26 (Dense)             (None, 12)                108       \n",
      "=================================================================\n",
      "Total params: 600\n",
      "Trainable params: 600\n",
      "Non-trainable params: 0\n",
      "_________________________________________________________________\n",
      "None\n",
      "Epoch 1/5\n",
      "879847/879847 [==============================] - 12s 13us/step - loss: 1.1052\n",
      "Epoch 2/5\n",
      "879847/879847 [==============================] - 10s 12us/step - loss: 1.0032\n",
      "Epoch 3/5\n",
      "879847/879847 [==============================] - 10s 12us/step - loss: 1.0002\n",
      "Epoch 4/5\n",
      "879847/879847 [==============================] - 11s 12us/step - loss: 1.0000\n",
      "Epoch 5/5\n",
      "879847/879847 [==============================] - 10s 11us/step - loss: 1.0000\n",
      "Autoencoder ROC:0.8405, precision @ rank n:0.3948\n",
      "CPU times: user 1min 34s, sys: 13.1 s, total: 1min 47s\n",
      "Wall time: 1min 10s\n"
     ]
    }
   ],
   "source": [
    "%%time\n",
    "od = AutoEncoder(hidden_neurons=[8, 4, 8], epochs=5, batch_size=150, validation_size=0., dropout_rate=0., l2_regularizer=0.001)\n",
    "od.fit(X_tr)\n",
    "evaluate_print('Autoencoder', y_te, od.decision_function(X_te))"
   ]
  },
  {
   "cell_type": "markdown",
   "metadata": {},
   "source": [
    "# Feature Selection for Classification\n",
    "\n",
    "In CWoLa we will be training on signal region vs. sideband region. However what we're really interested in is signal vs. background. Therefore we need features that are good at identifying signal as opposed to the signal region. The ROC AUC is misleading here. A classifier that is great at seperating signal region from sideband region will not be helpful in determining the amount of background in the signal region."
   ]
  },
  {
   "cell_type": "code",
   "execution_count": 11,
   "metadata": {},
   "outputs": [],
   "source": [
    "df2 = df[(df['mass_jj'] >= 2950) & (df['mass_jj'] <= 4050)].copy()"
   ]
  },
  {
   "cell_type": "code",
   "execution_count": 12,
   "metadata": {},
   "outputs": [],
   "source": [
    "df2['signal_region'] = ((df2['mass_jj'] >= 3250) & (df2['mass_jj'] <= 3750)).astype('int64')"
   ]
  },
  {
   "cell_type": "markdown",
   "metadata": {},
   "source": [
    "## Outlier Detectors as Classification Features"
   ]
  },
  {
   "cell_type": "code",
   "execution_count": 13,
   "metadata": {},
   "outputs": [],
   "source": [
    "quant2 = QuantileTransformer()\n",
    "X2_tr = quant2.fit_transform(df[od_cols])\n",
    "X2_te = quant2.transform(df2[od_cols])"
   ]
  },
  {
   "cell_type": "code",
   "execution_count": 14,
   "metadata": {},
   "outputs": [],
   "source": [
    "feat_pca = PCA(n_components=11, n_selected_components=1)\n",
    "feat_pca.fit(X2_tr)\n",
    "df2['pca'] = feat_pca.decision_function(X2_te)"
   ]
  },
  {
   "cell_type": "code",
   "execution_count": 15,
   "metadata": {},
   "outputs": [],
   "source": [
    "feat_iforest = IForest(behaviour='new', n_estimators=50)\n",
    "feat_iforest.fit(X2_tr)\n",
    "df2['iforest'] = feat_iforest.decision_function(X2_te)"
   ]
  },
  {
   "cell_type": "code",
   "execution_count": 16,
   "metadata": {},
   "outputs": [
    {
     "name": "stdout",
     "output_type": "stream",
     "text": [
      "WARNING:tensorflow:From /Users/christopherwmurphy/venvs/lhc_olympics/lib/python3.7/site-packages/keras/backend/tensorflow_backend.py:66: The name tf.get_default_graph is deprecated. Please use tf.compat.v1.get_default_graph instead.\n",
      "\n",
      "WARNING:tensorflow:From /Users/christopherwmurphy/venvs/lhc_olympics/lib/python3.7/site-packages/keras/backend/tensorflow_backend.py:541: The name tf.placeholder is deprecated. Please use tf.compat.v1.placeholder instead.\n",
      "\n",
      "WARNING:tensorflow:From /Users/christopherwmurphy/venvs/lhc_olympics/lib/python3.7/site-packages/keras/backend/tensorflow_backend.py:4432: The name tf.random_uniform is deprecated. Please use tf.random.uniform instead.\n",
      "\n",
      "WARNING:tensorflow:From /Users/christopherwmurphy/venvs/lhc_olympics/lib/python3.7/site-packages/keras/backend/tensorflow_backend.py:148: The name tf.placeholder_with_default is deprecated. Please use tf.compat.v1.placeholder_with_default instead.\n",
      "\n",
      "WARNING:tensorflow:From /Users/christopherwmurphy/venvs/lhc_olympics/lib/python3.7/site-packages/keras/backend/tensorflow_backend.py:3733: calling dropout (from tensorflow.python.ops.nn_ops) with keep_prob is deprecated and will be removed in a future version.\n",
      "Instructions for updating:\n",
      "Please use `rate` instead of `keep_prob`. Rate should be set to `rate = 1 - keep_prob`.\n",
      "WARNING:tensorflow:From /Users/christopherwmurphy/venvs/lhc_olympics/lib/python3.7/site-packages/keras/optimizers.py:793: The name tf.train.Optimizer is deprecated. Please use tf.compat.v1.train.Optimizer instead.\n",
      "\n",
      "Model: \"sequential_1\"\n",
      "_________________________________________________________________\n",
      "Layer (type)                 Output Shape              Param #   \n",
      "=================================================================\n",
      "dense_1 (Dense)              (None, 12)                156       \n",
      "_________________________________________________________________\n",
      "dropout_1 (Dropout)          (None, 12)                0         \n",
      "_________________________________________________________________\n",
      "dense_2 (Dense)              (None, 12)                156       \n",
      "_________________________________________________________________\n",
      "dropout_2 (Dropout)          (None, 12)                0         \n",
      "_________________________________________________________________\n",
      "dense_3 (Dense)              (None, 8)                 104       \n",
      "_________________________________________________________________\n",
      "dropout_3 (Dropout)          (None, 8)                 0         \n",
      "_________________________________________________________________\n",
      "dense_4 (Dense)              (None, 4)                 36        \n",
      "_________________________________________________________________\n",
      "dropout_4 (Dropout)          (None, 4)                 0         \n",
      "_________________________________________________________________\n",
      "dense_5 (Dense)              (None, 4)                 20        \n",
      "_________________________________________________________________\n",
      "dropout_5 (Dropout)          (None, 4)                 0         \n",
      "_________________________________________________________________\n",
      "dense_6 (Dense)              (None, 8)                 40        \n",
      "_________________________________________________________________\n",
      "dropout_6 (Dropout)          (None, 8)                 0         \n",
      "_________________________________________________________________\n",
      "dense_7 (Dense)              (None, 12)                108       \n",
      "=================================================================\n",
      "Total params: 620\n",
      "Trainable params: 620\n",
      "Non-trainable params: 0\n",
      "_________________________________________________________________\n",
      "None\n",
      "WARNING:tensorflow:From /Users/christopherwmurphy/venvs/lhc_olympics/lib/python3.7/site-packages/keras/backend/tensorflow_backend.py:1033: The name tf.assign_add is deprecated. Please use tf.compat.v1.assign_add instead.\n",
      "\n",
      "WARNING:tensorflow:From /Users/christopherwmurphy/venvs/lhc_olympics/lib/python3.7/site-packages/keras/backend/tensorflow_backend.py:1020: The name tf.assign is deprecated. Please use tf.compat.v1.assign instead.\n",
      "\n",
      "WARNING:tensorflow:From /Users/christopherwmurphy/venvs/lhc_olympics/lib/python3.7/site-packages/keras/backend/tensorflow_backend.py:3005: The name tf.Session is deprecated. Please use tf.compat.v1.Session instead.\n",
      "\n",
      "Epoch 1/3\n",
      "WARNING:tensorflow:From /Users/christopherwmurphy/venvs/lhc_olympics/lib/python3.7/site-packages/keras/backend/tensorflow_backend.py:190: The name tf.get_default_session is deprecated. Please use tf.compat.v1.get_default_session instead.\n",
      "\n",
      "WARNING:tensorflow:From /Users/christopherwmurphy/venvs/lhc_olympics/lib/python3.7/site-packages/keras/backend/tensorflow_backend.py:197: The name tf.ConfigProto is deprecated. Please use tf.compat.v1.ConfigProto instead.\n",
      "\n",
      "WARNING:tensorflow:From /Users/christopherwmurphy/venvs/lhc_olympics/lib/python3.7/site-packages/keras/backend/tensorflow_backend.py:207: The name tf.global_variables is deprecated. Please use tf.compat.v1.global_variables instead.\n",
      "\n",
      "WARNING:tensorflow:From /Users/christopherwmurphy/venvs/lhc_olympics/lib/python3.7/site-packages/keras/backend/tensorflow_backend.py:216: The name tf.is_variable_initialized is deprecated. Please use tf.compat.v1.is_variable_initialized instead.\n",
      "\n",
      "WARNING:tensorflow:From /Users/christopherwmurphy/venvs/lhc_olympics/lib/python3.7/site-packages/keras/backend/tensorflow_backend.py:223: The name tf.variables_initializer is deprecated. Please use tf.compat.v1.variables_initializer instead.\n",
      "\n",
      "1099809/1099809 [==============================] - 74s 67us/step - loss: 1.3266\n",
      "Epoch 2/3\n",
      "1099809/1099809 [==============================] - 71s 65us/step - loss: 1.0000\n",
      "Epoch 3/3\n",
      "1099809/1099809 [==============================] - 73s 66us/step - loss: 1.0000\n"
     ]
    }
   ],
   "source": [
    "feat_autoencoder = AutoEncoder(hidden_neurons=[8, 4, 4, 8], epochs=3, validation_size=0.)\n",
    "feat_autoencoder.fit(X2_tr)\n",
    "df2['autoencoder'] = feat_autoencoder.decision_function(X2_te)"
   ]
  },
  {
   "cell_type": "markdown",
   "metadata": {},
   "source": [
    "## Feature Selection using XGBoost"
   ]
  },
  {
   "cell_type": "code",
   "execution_count": 17,
   "metadata": {},
   "outputs": [],
   "source": [
    "X3 = df2.drop(columns=['is_signal', 'signal_region'])\n",
    "y1 = df2['signal_region']\n",
    "y2 = df2['is_signal']"
   ]
  },
  {
   "cell_type": "code",
   "execution_count": 18,
   "metadata": {},
   "outputs": [],
   "source": [
    "from xgboost import XGBClassifier"
   ]
  },
  {
   "cell_type": "code",
   "execution_count": 19,
   "metadata": {},
   "outputs": [],
   "source": [
    "import matplotlib.pyplot as plt\n",
    "%matplotlib notebook"
   ]
  },
  {
   "cell_type": "markdown",
   "metadata": {},
   "source": [
    "Conclusion: don't use $p_T^j$ (or $m_{jj}$, obviously) as classification features"
   ]
  },
  {
   "cell_type": "code",
   "execution_count": 20,
   "metadata": {},
   "outputs": [],
   "source": [
    "import os\n",
    "\n",
    "image_dir = '/Users/christopherwmurphy/Documents/projects/lhc_olympics/LHC-Olympics-2020/images'"
   ]
  },
  {
   "cell_type": "code",
   "execution_count": 21,
   "metadata": {},
   "outputs": [
    {
     "data": {
      "image/png": "[encoded data removed]",
      "text/plain": [
       "<Figure size 864x1512 with 28 Axes>"
      ]
     },
     "metadata": {
      "needs_background": "light"
     },
     "output_type": "display_data"
    }
   ],
   "source": [
    "plt.figure(1, figsize=(12, 21))\n",
    "\n",
    "for i, feature in enumerate(X3.columns):\n",
    "    plt.subplot(7, 4, i+1)\n",
    "    plt.title(feature)\n",
    "    plt.yscale('log')\n",
    "    \n",
    "    quant3 = QuantileTransformer()\n",
    "    X_feat = quant3.fit_transform(X3[feature].values.reshape(-1, 1))\n",
    "    xgbc = XGBClassifier(tree_method='hist', n_estimators=10, max_depth=3)\n",
    "    xgbc.fit(X_feat, y1)\n",
    "    probas = xgbc.predict_proba(X_feat).T[1]\n",
    "    \n",
    "    plt.hist(df2['mass_jj'], bins=20, alpha=0.4)\n",
    "    plt.hist(df2[probas > np.quantile(probas, 0.5)]['mass_jj'], bins=20, alpha=0.4)\n",
    "    \n",
    "plt.tight_layout(True)\n",
    "plt.savefig(os.path.join(image_dir, 'xgboost_features_vs_mjj.png'))\n",
    "plt.show()"
   ]
  },
  {
   "cell_type": "markdown",
   "metadata": {},
   "source": [
    "## Feature Selection using Correlations\n",
    "\n",
    "Look at correlation between feature and signal region/sideband region target. In particular, look at the difference in the correlation between true signal and true background events"
   ]
  },
  {
   "cell_type": "code",
   "execution_count": 75,
   "metadata": {},
   "outputs": [],
   "source": [
    "df_sb_corr = pd.merge(\n",
    "    df2[df2['is_signal'] == 1].corr()['signal_region'],\n",
    "    df2[df2['is_signal'] == 0].corr()['signal_region'],\n",
    "    how='inner',\n",
    "    left_index=True,\n",
    "    right_index=True,\n",
    "    suffixes=('_signal', '_background')\n",
    ")"
   ]
  },
  {
   "cell_type": "code",
   "execution_count": 76,
   "metadata": {},
   "outputs": [
    {
     "data": {
      "text/html": [
       "<div>\n",
       "<style scoped>\n",
       "    .dataframe tbody tr th:only-of-type {\n",
       "        vertical-align: middle;\n",
       "    }\n",
       "\n",
       "    .dataframe tbody tr th {\n",
       "        vertical-align: top;\n",
       "    }\n",
       "\n",
       "    .dataframe thead th {\n",
       "        text-align: right;\n",
       "    }\n",
       "</style>\n",
       "<table border=\"1\" class=\"dataframe\">\n",
       "  <thead>\n",
       "    <tr style=\"text-align: right;\">\n",
       "      <th></th>\n",
       "      <th>signal_region_signal</th>\n",
       "      <th>signal_region_background</th>\n",
       "    </tr>\n",
       "  </thead>\n",
       "  <tbody>\n",
       "    <tr>\n",
       "      <th>mass_2</th>\n",
       "      <td>-0.025757</td>\n",
       "      <td>0.022506</td>\n",
       "    </tr>\n",
       "    <tr>\n",
       "      <th>sqrt(tau1(2))/tau1(1)_1</th>\n",
       "      <td>-0.040284</td>\n",
       "      <td>0.001722</td>\n",
       "    </tr>\n",
       "    <tr>\n",
       "      <th>tau21_1</th>\n",
       "      <td>-0.044415</td>\n",
       "      <td>-0.007142</td>\n",
       "    </tr>\n",
       "    <tr>\n",
       "      <th>tau32_1</th>\n",
       "      <td>0.024404</td>\n",
       "      <td>-0.005386</td>\n",
       "    </tr>\n",
       "    <tr>\n",
       "      <th>tau43_1</th>\n",
       "      <td>0.015655</td>\n",
       "      <td>-0.004970</td>\n",
       "    </tr>\n",
       "    <tr>\n",
       "      <th>multiplicity_1</th>\n",
       "      <td>-0.012363</td>\n",
       "      <td>0.007554</td>\n",
       "    </tr>\n",
       "    <tr>\n",
       "      <th>sqrt(tau1(2))/tau1(1)_2</th>\n",
       "      <td>-0.096126</td>\n",
       "      <td>0.005074</td>\n",
       "    </tr>\n",
       "    <tr>\n",
       "      <th>tau21_2</th>\n",
       "      <td>-0.082249</td>\n",
       "      <td>-0.006089</td>\n",
       "    </tr>\n",
       "    <tr>\n",
       "      <th>tau32_2</th>\n",
       "      <td>0.031886</td>\n",
       "      <td>-0.007799</td>\n",
       "    </tr>\n",
       "    <tr>\n",
       "      <th>tau43_2</th>\n",
       "      <td>0.011706</td>\n",
       "      <td>-0.005691</td>\n",
       "    </tr>\n",
       "    <tr>\n",
       "      <th>multiplicity_2</th>\n",
       "      <td>-0.046373</td>\n",
       "      <td>0.006152</td>\n",
       "    </tr>\n",
       "    <tr>\n",
       "      <th>delta_phi_jj</th>\n",
       "      <td>0.063509</td>\n",
       "      <td>0.008557</td>\n",
       "    </tr>\n",
       "    <tr>\n",
       "      <th>mass_1+mass_2</th>\n",
       "      <td>-0.033443</td>\n",
       "      <td>0.031323</td>\n",
       "    </tr>\n",
       "    <tr>\n",
       "      <th>|mass_1-mass_2|</th>\n",
       "      <td>0.130030</td>\n",
       "      <td>0.023597</td>\n",
       "    </tr>\n",
       "  </tbody>\n",
       "</table>\n",
       "</div>"
      ],
      "text/plain": [
       "                         signal_region_signal  signal_region_background\n",
       "mass_2                              -0.025757                  0.022506\n",
       "sqrt(tau1(2))/tau1(1)_1             -0.040284                  0.001722\n",
       "tau21_1                             -0.044415                 -0.007142\n",
       "tau32_1                              0.024404                 -0.005386\n",
       "tau43_1                              0.015655                 -0.004970\n",
       "multiplicity_1                      -0.012363                  0.007554\n",
       "sqrt(tau1(2))/tau1(1)_2             -0.096126                  0.005074\n",
       "tau21_2                             -0.082249                 -0.006089\n",
       "tau32_2                              0.031886                 -0.007799\n",
       "tau43_2                              0.011706                 -0.005691\n",
       "multiplicity_2                      -0.046373                  0.006152\n",
       "delta_phi_jj                         0.063509                  0.008557\n",
       "mass_1+mass_2                       -0.033443                  0.031323\n",
       "|mass_1-mass_2|                      0.130030                  0.023597"
      ]
     },
     "execution_count": 76,
     "metadata": {},
     "output_type": "execute_result"
    }
   ],
   "source": [
    "df_sb_corr[\n",
    "    (np.abs(df_sb_corr['signal_region_signal']) > 0.01) & \n",
    "    (np.abs(df_sb_corr['signal_region_background']) < 0.04)\n",
    "]"
   ]
  },
  {
   "cell_type": "code",
   "execution_count": 84,
   "metadata": {},
   "outputs": [
    {
     "data": {
      "text/html": [
       "<div>\n",
       "<style scoped>\n",
       "    .dataframe tbody tr th:only-of-type {\n",
       "        vertical-align: middle;\n",
       "    }\n",
       "\n",
       "    .dataframe tbody tr th {\n",
       "        vertical-align: top;\n",
       "    }\n",
       "\n",
       "    .dataframe thead th {\n",
       "        text-align: right;\n",
       "    }\n",
       "</style>\n",
       "<table border=\"1\" class=\"dataframe\">\n",
       "  <thead>\n",
       "    <tr style=\"text-align: right;\">\n",
       "      <th></th>\n",
       "      <th>signal_region_signal</th>\n",
       "      <th>signal_region_background</th>\n",
       "    </tr>\n",
       "  </thead>\n",
       "  <tbody>\n",
       "    <tr>\n",
       "      <th>pca</th>\n",
       "      <td>0.091680</td>\n",
       "      <td>0.060173</td>\n",
       "    </tr>\n",
       "    <tr>\n",
       "      <th>iforest</th>\n",
       "      <td>-0.045935</td>\n",
       "      <td>0.040584</td>\n",
       "    </tr>\n",
       "    <tr>\n",
       "      <th>autoencoder</th>\n",
       "      <td>0.063437</td>\n",
       "      <td>0.063057</td>\n",
       "    </tr>\n",
       "  </tbody>\n",
       "</table>\n",
       "</div>"
      ],
      "text/plain": [
       "             signal_region_signal  signal_region_background\n",
       "pca                      0.091680                  0.060173\n",
       "iforest                 -0.045935                  0.040584\n",
       "autoencoder              0.063437                  0.063057"
      ]
     },
     "execution_count": 84,
     "metadata": {},
     "output_type": "execute_result"
    }
   ],
   "source": [
    "df_sb_corr.iloc[-3:]"
   ]
  },
  {
   "cell_type": "code",
   "execution_count": null,
   "metadata": {},
   "outputs": [],
   "source": []
  }
 ],
 "metadata": {
  "kernelspec": {
   "display_name": "LHC Olympics",
   "language": "python",
   "name": "lhc_olympics"
  },
  "language_info": {
   "codemirror_mode": {
    "name": "ipython",
    "version": 3
   },
   "file_extension": ".py",
   "mimetype": "text/x-python",
   "name": "python",
   "nbconvert_exporter": "python",
   "pygments_lexer": "ipython3",
   "version": "3.7.4"
  }
 },
 "nbformat": 4,
 "nbformat_minor": 2
}
